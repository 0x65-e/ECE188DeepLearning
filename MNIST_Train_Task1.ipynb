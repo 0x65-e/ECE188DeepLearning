{
 "cells": [
  {
   "cell_type": "markdown",
   "metadata": {
    "colab_type": "text",
    "id": "view-in-github"
   },
   "source": [
    "<a href=\"https://colab.research.google.com/github/shreyasrajesh0308/ECE188DeepLearning/blob/main/MNIST_Train_Task1.ipynb\" target=\"_parent\"><img src=\"https://colab.research.google.com/assets/colab-badge.svg\" alt=\"Open In Colab\"/></a>"
   ]
  },
  {
   "cell_type": "markdown",
   "metadata": {
    "id": "a-utSW-VUF2y"
   },
   "source": [
    "# Project 2- ECE 188, Spring 2022 - Deadline: June 10th, 2022. Please upload a link to your Github on Gradescope.\n",
    "# Train a Deep Learning model on the MNIST dataset and evaluate it on a test set.\n",
    "\n",
    "The first part in this notebook will take you though the training of the [MNIST Dataset](http://yann.lecun.com/exdb/mnist/) which is a collection of handwritten digits. \n",
    "\n",
    "We will build a Deep Learning based system that can recognise handwritten digits using [Keras](https://keras.io/) and [Tensorflow](https://www.tensorflow.org/). \n",
    "\n",
    "Note that the entire project will be done on a Google Colab. A tutorial to some basic colab instructions can be found [here](https://colab.research.google.com/?utm_source=scs-index#scrollTo=GJBs_flRovLc). \n",
    "\n",
    "Note that all the code needed is provided until Task 1, **you will only have to write code after the task 1 header**"
   ]
  },
  {
   "cell_type": "markdown",
   "metadata": {
    "id": "fgnHUBjoUTcy"
   },
   "source": [
    "## Import Necessary Packages\n",
    "\n",
    "We import Keras and Tensorflow to train our network and numpy to work with our data. \n",
    "\n",
    "We also import matplotlib to view our images. "
   ]
  },
  {
   "cell_type": "code",
   "execution_count": 2,
   "metadata": {
    "id": "aDvD8R1TbbOi"
   },
   "outputs": [],
   "source": [
    "import numpy as np\n",
    "import tensorflow as tf\n",
    "from tensorflow import keras\n",
    "from keras import layers\n"
   ]
  },
  {
   "cell_type": "code",
   "execution_count": 3,
   "metadata": {
    "id": "OdYVH66MUciD"
   },
   "outputs": [],
   "source": [
    "import matplotlib as mpl\n",
    "import matplotlib.pyplot as plt\n",
    "\n",
    "mpl.rcParams['figure.figsize'] = (8, 8)\n",
    "mpl.rcParams['axes.grid'] = False\n"
   ]
  },
  {
   "cell_type": "markdown",
   "metadata": {
    "id": "yuFHL78kUez_"
   },
   "source": [
    "# Load the Data\n",
    "\n",
    "We perform some data preprocessing. Feel free to skip over this and use the train and test data as x_train and x_test"
   ]
  },
  {
   "cell_type": "code",
   "execution_count": 8,
   "metadata": {
    "colab": {
     "base_uri": "https://localhost:8080/"
    },
    "id": "2iKGDDuDbhRM",
    "outputId": "b7c112ab-b9c3-476f-f4b1-854fca72f772"
   },
   "outputs": [
    {
     "name": "stdout",
     "output_type": "stream",
     "text": [
      "Downloading data from https://storage.googleapis.com/tensorflow/tf-keras-datasets/mnist.npz\n",
      "11490434/11490434 [==============================] - 2s 0us/step\n",
      "x_train shape: (60000, 28, 28, 1)\n",
      "60000 train samples\n",
      "10000 test samples\n"
     ]
    }
   ],
   "source": [
    "# Model / data parameters\n",
    "num_classes = 10\n",
    "input_shape = (28, 28, 1)\n",
    "\n",
    "# the data, split between train and test sets\n",
    "(x_train, y_train), (x_test, y_test) = keras.datasets.mnist.load_data()\n",
    "\n",
    "# Scale images to the [0, 1] range\n",
    "x_train = x_train.astype(\"float32\") / 255\n",
    "x_test = x_test.astype(\"float32\") / 255\n",
    "# Make sure images have shape (28, 28, 1)\n",
    "x_train = np.expand_dims(x_train, -1)\n",
    "x_test = np.expand_dims(x_test, -1)\n",
    "print(\"x_train shape:\", x_train.shape)\n",
    "print(x_train.shape[0], \"train samples\")\n",
    "print(x_test.shape[0], \"test samples\")\n",
    "\n",
    "\n",
    "# convert class vectors to binary class matrices\n",
    "y_train = keras.utils.to_categorical(y_train, num_classes)\n",
    "y_test = keras.utils.to_categorical(y_test, num_classes)\n"
   ]
  },
  {
   "cell_type": "markdown",
   "metadata": {
    "id": "tEDsgxIcuv0B"
   },
   "source": [
    "## Define a model in keras.\n",
    "\n",
    "\n",
    " We define a simple simple network with 2 hidden layers. One fully connected dense layer with 8 neurons and onr flatten layer that flattens the model into 1D structure which is then fed into a softmax output.\n",
    "\n",
    "This is a barebones keras structure. In task 1 you will be tasked with improving this model. "
   ]
  },
  {
   "cell_type": "code",
   "execution_count": 9,
   "metadata": {
    "colab": {
     "base_uri": "https://localhost:8080/"
    },
    "id": "Kb3ONTl8Odrq",
    "outputId": "8b4d333d-efc8-49cc-a4bd-e50cfeaf4258"
   },
   "outputs": [
    {
     "name": "stdout",
     "output_type": "stream",
     "text": [
      "Model: \"sequential\"\n",
      "_________________________________________________________________\n",
      " Layer (type)                Output Shape              Param #   \n",
      "=================================================================\n",
      " dense (Dense)               (None, 28, 28, 8)         16        \n",
      "                                                                 \n",
      " flatten (Flatten)           (None, 6272)              0         \n",
      "                                                                 \n",
      " dense_1 (Dense)             (None, 10)                62730     \n",
      "                                                                 \n",
      "=================================================================\n",
      "Total params: 62,746\n",
      "Trainable params: 62,746\n",
      "Non-trainable params: 0\n",
      "_________________________________________________________________\n"
     ]
    }
   ],
   "source": [
    "model = keras.Sequential(\n",
    "    [\n",
    "        keras.Input(shape=input_shape),\n",
    "        layers.Dense(8,activation=\"relu\"),\n",
    "        layers.Flatten(),\n",
    "        layers.Dense(num_classes, activation=\"softmax\"),\n",
    "    ]\n",
    ")\n",
    "\n",
    "model.summary()\n"
   ]
  },
  {
   "cell_type": "markdown",
   "metadata": {
    "id": "7qepS8u7VJXF"
   },
   "source": [
    "## Compile and train the model \n",
    "\n",
    "We now train our model. Before we do that we need to set some parameters to train the model. Hence we define the loss and optimizer to be used as well as batch size. The number of epochs refers to the number of training iterations. "
   ]
  },
  {
   "cell_type": "code",
   "execution_count": 10,
   "metadata": {
    "colab": {
     "base_uri": "https://localhost:8080/"
    },
    "id": "3cwCRnA2OgPY",
    "outputId": "d84a3e2e-5a03-4287-f92a-0ef2170c40ab"
   },
   "outputs": [
    {
     "name": "stdout",
     "output_type": "stream",
     "text": [
      "Epoch 1/15\n",
      "422/422 [==============================] - 4s 8ms/step - loss: 0.5149 - accuracy: 0.8679 - val_loss: 0.2592 - val_accuracy: 0.9282\n",
      "Epoch 2/15\n",
      "422/422 [==============================] - 3s 7ms/step - loss: 0.3057 - accuracy: 0.9139 - val_loss: 0.2348 - val_accuracy: 0.9367\n",
      "Epoch 3/15\n",
      "422/422 [==============================] - 4s 8ms/step - loss: 0.2850 - accuracy: 0.9189 - val_loss: 0.2337 - val_accuracy: 0.9320\n",
      "Epoch 4/15\n",
      "422/422 [==============================] - 4s 9ms/step - loss: 0.2757 - accuracy: 0.9231 - val_loss: 0.2298 - val_accuracy: 0.9345\n",
      "Epoch 5/15\n",
      "422/422 [==============================] - 3s 8ms/step - loss: 0.2714 - accuracy: 0.9241 - val_loss: 0.2244 - val_accuracy: 0.9385\n",
      "Epoch 6/15\n",
      "422/422 [==============================] - 3s 7ms/step - loss: 0.2659 - accuracy: 0.9250 - val_loss: 0.2285 - val_accuracy: 0.9372\n",
      "Epoch 7/15\n",
      "422/422 [==============================] - 3s 7ms/step - loss: 0.2624 - accuracy: 0.9261 - val_loss: 0.2230 - val_accuracy: 0.9382\n",
      "Epoch 8/15\n",
      "422/422 [==============================] - 3s 7ms/step - loss: 0.2594 - accuracy: 0.9274 - val_loss: 0.2273 - val_accuracy: 0.9393\n",
      "Epoch 9/15\n",
      "422/422 [==============================] - 4s 8ms/step - loss: 0.2569 - accuracy: 0.9282 - val_loss: 0.2246 - val_accuracy: 0.9368\n",
      "Epoch 10/15\n",
      "422/422 [==============================] - 3s 8ms/step - loss: 0.2546 - accuracy: 0.9294 - val_loss: 0.2257 - val_accuracy: 0.9383\n",
      "Epoch 11/15\n",
      "422/422 [==============================] - 3s 8ms/step - loss: 0.2546 - accuracy: 0.9282 - val_loss: 0.2245 - val_accuracy: 0.9387\n",
      "Epoch 12/15\n",
      "422/422 [==============================] - 3s 8ms/step - loss: 0.2520 - accuracy: 0.9299 - val_loss: 0.2277 - val_accuracy: 0.9370\n",
      "Epoch 13/15\n",
      "422/422 [==============================] - 4s 8ms/step - loss: 0.2502 - accuracy: 0.9299 - val_loss: 0.2315 - val_accuracy: 0.9347\n",
      "Epoch 14/15\n",
      "422/422 [==============================] - 3s 8ms/step - loss: 0.2486 - accuracy: 0.9304 - val_loss: 0.2313 - val_accuracy: 0.9367\n",
      "Epoch 15/15\n",
      "422/422 [==============================] - 3s 8ms/step - loss: 0.2481 - accuracy: 0.9309 - val_loss: 0.2313 - val_accuracy: 0.9373\n"
     ]
    },
    {
     "data": {
      "text/plain": [
       "<keras.callbacks.History at 0x1c91bc37610>"
      ]
     },
     "execution_count": 10,
     "metadata": {},
     "output_type": "execute_result"
    }
   ],
   "source": [
    "batch_size = 128\n",
    "epochs = 15\n",
    "\n",
    "model.compile(loss=\"categorical_crossentropy\", optimizer=\"adam\", metrics=[\"accuracy\"])\n",
    "\n",
    "model.fit(x_train, y_train, batch_size=batch_size, epochs=epochs, validation_split=0.1)\n"
   ]
  },
  {
   "cell_type": "markdown",
   "metadata": {
    "id": "2IscBu-nVLw3"
   },
   "source": [
    "## Evaluate the model "
   ]
  },
  {
   "cell_type": "code",
   "execution_count": 11,
   "metadata": {
    "colab": {
     "base_uri": "https://localhost:8080/"
    },
    "id": "SCRqjgb_OiN7",
    "outputId": "a98092c1-d98d-4766-f81d-d63fc925b0c0"
   },
   "outputs": [
    {
     "name": "stdout",
     "output_type": "stream",
     "text": [
      "Test loss: 0.2824658155441284\n",
      "Test accuracy: 0.92330002784729\n"
     ]
    }
   ],
   "source": [
    "score = model.evaluate(x_test, y_test, verbose=0)\n",
    "print(\"Test loss:\", score[0])\n",
    "print(\"Test accuracy:\", score[1])\n"
   ]
  },
  {
   "cell_type": "markdown",
   "metadata": {
    "id": "nSdY-BY5vKZb"
   },
   "source": [
    "We achieve an accuracy on the test set of 92% but can we do better?"
   ]
  },
  {
   "cell_type": "markdown",
   "metadata": {
    "id": "y9a6QtAJ4Xby"
   },
   "source": [
    "## Looking at a prediction.\n",
    "\n",
    "Lets look at the prediction for a particular image in our model. We will look at one corect and one incorrect prediction and see if we can improve on the incorrect prediction. "
   ]
  },
  {
   "cell_type": "code",
   "execution_count": 12,
   "metadata": {
    "id": "g3uyTJ6253Jv"
   },
   "outputs": [],
   "source": [
    "def get_mnist_label(image_probs):\n",
    "\n",
    "    return np.argmax(image_probs), np.max(image_probs)"
   ]
  },
  {
   "cell_type": "code",
   "execution_count": 13,
   "metadata": {
    "id": "sZP5HsZO5OyY"
   },
   "outputs": [
    {
     "name": "stdout",
     "output_type": "stream",
     "text": [
      "313/313 [==============================] - 1s 1ms/step\n"
     ]
    }
   ],
   "source": [
    "preds = model.predict(x_test)\n",
    "\n",
    "image = x_test[0].reshape(input_shape[0], input_shape[1])\n",
    "label = np.argmax(y_test[0])\n",
    "image_probs = preds[0]"
   ]
  },
  {
   "cell_type": "code",
   "execution_count": 14,
   "metadata": {
    "colab": {
     "base_uri": "https://localhost:8080/",
     "height": 499
    },
    "id": "AdIoM5GX5ygg",
    "outputId": "f2536a58-6f12-4877-9feb-b2de3c815949"
   },
   "outputs": [
    {
     "data": {
      "image/png": "[encoded data removed]",
      "text/plain": [
       "<Figure size 576x576 with 1 Axes>"
      ]
     },
     "metadata": {
      "needs_background": "light"
     },
     "output_type": "display_data"
    }
   ],
   "source": [
    "plt.figure()\n",
    "plt.imshow(image*0.5 + 0.5)  # To change [-1, 1] to [0,1]\n",
    "image_class, class_confidence = get_mnist_label(image_probs)\n",
    "plt.title('{} : {:.2f}% Confidence'.format(image_class, class_confidence*100))\n",
    "plt.show()\n"
   ]
  },
  {
   "cell_type": "code",
   "execution_count": 15,
   "metadata": {
    "id": "qmmsBM_E6DUc"
   },
   "outputs": [],
   "source": [
    "# Store the incorrect prediction index here\n",
    "incorrect_index = 0\n",
    "\n",
    "for i in range(preds.shape[0]):\n",
    "\n",
    "    if np.argmax(preds[i]) != np.argmax(y_test[i]):\n",
    "        incorrect_index = i\n",
    "\n",
    "image_incorrect = x_test[incorrect_index].reshape(input_shape[0], input_shape[1])"
   ]
  },
  {
   "cell_type": "code",
   "execution_count": 16,
   "metadata": {
    "colab": {
     "base_uri": "https://localhost:8080/",
     "height": 499
    },
    "id": "HKsiOalv7Bsj",
    "outputId": "9f420f87-e24b-46d6-dd7a-5c19b5c1060d"
   },
   "outputs": [
    {
     "data": {
      "image/png": "[encoded data removed]",
      "text/plain": [
       "<Figure size 576x576 with 1 Axes>"
      ]
     },
     "metadata": {
      "needs_background": "light"
     },
     "output_type": "display_data"
    }
   ],
   "source": [
    "plt.figure()\n",
    "plt.imshow(image_incorrect*0.5 + 0.5)  # To change [-1, 1] to [0,1]\n",
    "image_class, class_confidence = get_mnist_label(preds[i])\n",
    "plt.title('{} : {:.2f}% Confidence'.format(image_class, class_confidence*100))\n",
    "plt.show()\n"
   ]
  },
  {
   "cell_type": "markdown",
   "metadata": {
    "id": "VfSIJAF57dhy"
   },
   "source": [
    "We see that a 3 has been predicted with high confidence as a 6 does this change with our improved model below?"
   ]
  },
  {
   "cell_type": "markdown",
   "metadata": {
    "id": "LifPv5WJvSMu"
   },
   "source": [
    " # TASK 1: Improve the accuracy of the model \n",
    "\n",
    "Your goal in task one is to improve the accuracy of the model on the test set. "
   ]
  },
  {
   "cell_type": "markdown",
   "metadata": {
    "id": "nq8pen8-wdsh"
   },
   "source": [
    "For image recogniton tasks convolutional neural networks work better than most other type of architectures. Your goal is to push the test accuracy above 99% percent. \n",
    "\n",
    "The following steps will get you there. \n",
    "\n",
    "1. Convert the 1st hidden Dense layer to a conv layer with 32 filters, a filter size of 3x3 and with relu activation. (I've done this step)\n",
    "2. Add a Maxpooling layer of size 2x2. \n",
    "3. Add another Conv layer with 64 filters, with a filter size of 3x3 with relu activation. \n",
    "4. Add a Maxpooling layer of size 2x2. \n",
    "5. Add Dropout to the layer after the Flatten layer. "
   ]
  },
  {
   "cell_type": "code",
   "execution_count": 24,
   "metadata": {
    "id": "LeDUJgK2wb4l"
   },
   "outputs": [
    {
     "name": "stdout",
     "output_type": "stream",
     "text": [
      "Model: \"sequential_2\"\n",
      "_________________________________________________________________\n",
      " Layer (type)                Output Shape              Param #   \n",
      "=================================================================\n",
      " conv2d_2 (Conv2D)           (None, 26, 26, 32)        320       \n",
      "                                                                 \n",
      " max_pooling2d_2 (MaxPooling  (None, 13, 13, 32)       0         \n",
      " 2D)                                                             \n",
      "                                                                 \n",
      " conv2d_3 (Conv2D)           (None, 11, 11, 64)        18496     \n",
      "                                                                 \n",
      " max_pooling2d_3 (MaxPooling  (None, 5, 5, 64)         0         \n",
      " 2D)                                                             \n",
      "                                                                 \n",
      " flatten_2 (Flatten)         (None, 1600)              0         \n",
      "                                                                 \n",
      " dropout_1 (Dropout)         (None, 1600)              0         \n",
      "                                                                 \n",
      " dense_3 (Dense)             (None, 10)                16010     \n",
      "                                                                 \n",
      "=================================================================\n",
      "Total params: 34,826\n",
      "Trainable params: 34,826\n",
      "Non-trainable params: 0\n",
      "_________________________________________________________________\n"
     ]
    }
   ],
   "source": [
    "improved_model = keras.Sequential(\n",
    "    [\n",
    "        keras.Input(shape=input_shape),\n",
    "        layers.Conv2D(32, kernel_size=(3, 3), activation=\"relu\"),\n",
    "        # Add Maxpooling layer here\n",
    "        layers.MaxPooling2D(pool_size=(2, 2)),\n",
    "        # Add Conv2d layer here\n",
    "        layers.Conv2D(64, kernel_size=(3, 3), activation=\"relu\"),\n",
    "        layers.MaxPooling2D(pool_size=(2, 2)),\n",
    "        layers.Flatten(),\n",
    "        # Add dropout of 0.5 here\n",
    "        layers.Dropout(rate=0.5),\n",
    "        layers.Dense(num_classes, activation=\"softmax\"),\n",
    "    ]\n",
    ")\n",
    "\n",
    "improved_model.summary()\n"
   ]
  },
  {
   "cell_type": "markdown",
   "metadata": {
    "id": "ffzFzyOZ0UG8"
   },
   "source": [
    "## Complile and train the improved model. "
   ]
  },
  {
   "cell_type": "code",
   "execution_count": 25,
   "metadata": {
    "id": "aPBhYQml1OuH"
   },
   "outputs": [
    {
     "name": "stdout",
     "output_type": "stream",
     "text": [
      "Epoch 1/15\n",
      "422/422 [==============================] - 19s 44ms/step - loss: 0.3714 - accuracy: 0.8853 - val_loss: 0.0797 - val_accuracy: 0.9800\n",
      "Epoch 2/15\n",
      "422/422 [==============================] - 18s 44ms/step - loss: 0.1106 - accuracy: 0.9665 - val_loss: 0.0580 - val_accuracy: 0.9843\n",
      "Epoch 3/15\n",
      "422/422 [==============================] - 17s 41ms/step - loss: 0.0860 - accuracy: 0.9733 - val_loss: 0.0460 - val_accuracy: 0.9872\n",
      "Epoch 4/15\n",
      "422/422 [==============================] - 18s 42ms/step - loss: 0.0692 - accuracy: 0.9781 - val_loss: 0.0411 - val_accuracy: 0.9885\n",
      "Epoch 5/15\n",
      "422/422 [==============================] - 17s 41ms/step - loss: 0.0621 - accuracy: 0.9809 - val_loss: 0.0415 - val_accuracy: 0.9868\n",
      "Epoch 6/15\n",
      "422/422 [==============================] - 19s 45ms/step - loss: 0.0546 - accuracy: 0.9823 - val_loss: 0.0408 - val_accuracy: 0.9877\n",
      "Epoch 7/15\n",
      "422/422 [==============================] - 18s 42ms/step - loss: 0.0510 - accuracy: 0.9834 - val_loss: 0.0352 - val_accuracy: 0.9905\n",
      "Epoch 8/15\n",
      "422/422 [==============================] - 17s 41ms/step - loss: 0.0480 - accuracy: 0.9846 - val_loss: 0.0305 - val_accuracy: 0.9908\n",
      "Epoch 9/15\n",
      "422/422 [==============================] - 17s 41ms/step - loss: 0.0456 - accuracy: 0.9858 - val_loss: 0.0320 - val_accuracy: 0.9908\n",
      "Epoch 10/15\n",
      "422/422 [==============================] - 17s 40ms/step - loss: 0.0411 - accuracy: 0.9867 - val_loss: 0.0336 - val_accuracy: 0.9900\n",
      "Epoch 11/15\n",
      "422/422 [==============================] - 18s 42ms/step - loss: 0.0409 - accuracy: 0.9872 - val_loss: 0.0278 - val_accuracy: 0.9927\n",
      "Epoch 12/15\n",
      "422/422 [==============================] - 18s 42ms/step - loss: 0.0366 - accuracy: 0.9885 - val_loss: 0.0292 - val_accuracy: 0.9922\n",
      "Epoch 13/15\n",
      "422/422 [==============================] - 17s 41ms/step - loss: 0.0346 - accuracy: 0.9889 - val_loss: 0.0331 - val_accuracy: 0.9920\n",
      "Epoch 14/15\n",
      "422/422 [==============================] - 17s 41ms/step - loss: 0.0336 - accuracy: 0.9889 - val_loss: 0.0285 - val_accuracy: 0.9920\n",
      "Epoch 15/15\n",
      "422/422 [==============================] - 18s 43ms/step - loss: 0.0336 - accuracy: 0.9890 - val_loss: 0.0274 - val_accuracy: 0.9928\n"
     ]
    },
    {
     "data": {
      "text/plain": [
       "<keras.callbacks.History at 0x1c91e553c40>"
      ]
     },
     "execution_count": 25,
     "metadata": {},
     "output_type": "execute_result"
    }
   ],
   "source": [
    "batch_size = 128\n",
    "epochs = 15\n",
    "\n",
    "improved_model.compile(loss=\"categorical_crossentropy\", optimizer=\"adam\", metrics=[\"accuracy\"])\n",
    "\n",
    "improved_model.fit(x_train, y_train, batch_size=batch_size, epochs=epochs, validation_split=0.1)\n"
   ]
  },
  {
   "cell_type": "markdown",
   "metadata": {
    "id": "7a7EZNcv1r9J"
   },
   "source": [
    "## Evaluate the Improved model. \n",
    "\n",
    "You should achieve a test accuracy of greater than 99%!\n",
    "\n",
    "If not the code will throw an assertion error. "
   ]
  },
  {
   "cell_type": "code",
   "execution_count": 26,
   "metadata": {
    "id": "lYKx0TKH2P6G"
   },
   "outputs": [
    {
     "name": "stdout",
     "output_type": "stream",
     "text": [
      "Improved Test loss: 0.023449357599020004\n",
      "Improved Test accuracy: 0.9921000003814697\n"
     ]
    }
   ],
   "source": [
    "score = improved_model.evaluate(x_test, y_test, verbose=0)\n",
    "print(\"Improved Test loss:\", score[0])\n",
    "print(\"Improved Test accuracy:\", score[1])\n",
    "\n",
    "assert score[1] > 0.99"
   ]
  },
  {
   "cell_type": "markdown",
   "metadata": {
    "id": "aD885MO57xoV"
   },
   "source": [
    "## Looking at a prediction.\n",
    "\n",
    "Lets look at the prediction for a particular image in our model. We will look at one corect and one incorrect prediction and see if we can improve on the incorrect prediction. \n",
    "\n",
    "Check the predictions on the improved model, do you see improvements on the incorrect sample. "
   ]
  },
  {
   "cell_type": "code",
   "execution_count": 27,
   "metadata": {
    "id": "0ozaLxNg7xoW"
   },
   "outputs": [
    {
     "name": "stdout",
     "output_type": "stream",
     "text": [
      "313/313 [==============================] - 1s 4ms/step\n"
     ]
    }
   ],
   "source": [
    "improved_preds = improved_model.predict(x_test)\n",
    "\n",
    "image = x_test[0].reshape(input_shape[0], input_shape[1])\n",
    "label = np.argmax(y_test[0])"
   ]
  },
  {
   "cell_type": "code",
   "execution_count": 28,
   "metadata": {
    "id": "y0qsS5jY7xoW"
   },
   "outputs": [
    {
     "data": {
      "image/png": "[encoded data removed]",
      "text/plain": [
       "<Figure size 576x576 with 1 Axes>"
      ]
     },
     "metadata": {
      "needs_background": "light"
     },
     "output_type": "display_data"
    }
   ],
   "source": [
    "plt.figure()\n",
    "plt.imshow(image*0.5 + 0.5)  # To change [-1, 1] to [0,1]\n",
    "image_class, class_confidence = get_mnist_label(improved_preds[0])\n",
    "plt.title('{} : {:.2f}% Confidence'.format(image_class, class_confidence*100))\n",
    "plt.show()"
   ]
  },
  {
   "cell_type": "code",
   "execution_count": 29,
   "metadata": {
    "id": "Dyj5CbQD7xoW"
   },
   "outputs": [
    {
     "data": {
      "image/png": "[encoded data removed]",
      "text/plain": [
       "<Figure size 576x576 with 1 Axes>"
      ]
     },
     "metadata": {
      "needs_background": "light"
     },
     "output_type": "display_data"
    }
   ],
   "source": [
    "plt.figure()\n",
    "plt.imshow(image_incorrect*0.5 + 0.5)  # To change [-1, 1] to [0,1]\n",
    "image_class, class_confidence = get_mnist_label(improved_preds[i])\n",
    "plt.title('{} : {:.2f}% Confidence'.format(image_class, class_confidence*100))\n",
    "plt.show()"
   ]
  },
  {
   "cell_type": "markdown",
   "metadata": {},
   "source": [
    "It doesn't actually look like this particular example improved much. This 3 is still classified as a 6. However, other samples have improved, since the test set accuracy is now above 99%."
   ]
  }
 ],
 "metadata": {
  "accelerator": "GPU",
  "colab": {
   "authorship_tag": "ABX9TyPTn3x0KPYskaHLEwVZ8Xse",
   "collapsed_sections": [],
   "include_colab_link": true,
   "name": "MNIST_Train_Task1.ipynb",
   "provenance": [],
   "toc_visible": true
  },
  "kernelspec": {
   "display_name": "Python 3 (ipykernel)",
   "language": "python",
   "name": "python3"
  },
  "language_info": {
   "codemirror_mode": {
    "name": "ipython",
    "version": 3
   },
   "file_extension": ".py",
   "mimetype": "text/x-python",
   "name": "python",
   "nbconvert_exporter": "python",
   "pygments_lexer": "ipython3",
   "version": "3.10.2"
  }
 },
 "nbformat": 4,
 "nbformat_minor": 1
}
